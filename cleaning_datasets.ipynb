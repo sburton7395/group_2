{
 "cells": [
  {
   "cell_type": "code",
   "execution_count": 1,
   "id": "a92d3e5b",
   "metadata": {},
   "outputs": [],
   "source": [
    "# Import dependencies\n",
    "import pandas as pd"
   ]
  },
  {
   "cell_type": "code",
   "execution_count": 2,
   "id": "e8a71486",
   "metadata": {},
   "outputs": [
    {
     "data": {
      "text/html": [
       "<div>\n",
       "<style scoped>\n",
       "    .dataframe tbody tr th:only-of-type {\n",
       "        vertical-align: middle;\n",
       "    }\n",
       "\n",
       "    .dataframe tbody tr th {\n",
       "        vertical-align: top;\n",
       "    }\n",
       "\n",
       "    .dataframe thead th {\n",
       "        text-align: right;\n",
       "    }\n",
       "</style>\n",
       "<table border=\"1\" class=\"dataframe\">\n",
       "  <thead>\n",
       "    <tr style=\"text-align: right;\">\n",
       "      <th></th>\n",
       "      <th>SITE_ADDRE</th>\n",
       "      <th>CITY</th>\n",
       "      <th>ZIP_CODE</th>\n",
       "      <th>ZONING</th>\n",
       "      <th>SALE_PRICE</th>\n",
       "      <th>SALE_DATE</th>\n",
       "      <th>BILLING_CLASS</th>\n",
       "      <th>YEAR_BUILT</th>\n",
       "      <th>UNITS</th>\n",
       "      <th>DESIGN_STYLE</th>\n",
       "    </tr>\n",
       "  </thead>\n",
       "  <tbody>\n",
       "    <tr>\n",
       "      <th>8</th>\n",
       "      <td>2457  BERTIE DR</td>\n",
       "      <td>RALEIGH</td>\n",
       "      <td>27610</td>\n",
       "      <td>R-4</td>\n",
       "      <td>34,500</td>\n",
       "      <td>1/1/1974</td>\n",
       "      <td>2</td>\n",
       "      <td>1964</td>\n",
       "      <td>1</td>\n",
       "      <td>I</td>\n",
       "    </tr>\n",
       "    <tr>\n",
       "      <th>9</th>\n",
       "      <td>2848  PROVIDENCE RD</td>\n",
       "      <td>RALEIGH</td>\n",
       "      <td>27610</td>\n",
       "      <td>R-4</td>\n",
       "      <td>35,500</td>\n",
       "      <td>5/18/1983</td>\n",
       "      <td>2</td>\n",
       "      <td>1970</td>\n",
       "      <td>1</td>\n",
       "      <td>A</td>\n",
       "    </tr>\n",
       "    <tr>\n",
       "      <th>10</th>\n",
       "      <td>409 S LAKESIDE DR</td>\n",
       "      <td>RALEIGH</td>\n",
       "      <td>27606</td>\n",
       "      <td>R-4</td>\n",
       "      <td>0</td>\n",
       "      <td>OTHER</td>\n",
       "      <td>2</td>\n",
       "      <td>1999</td>\n",
       "      <td>1</td>\n",
       "      <td>A</td>\n",
       "    </tr>\n",
       "    <tr>\n",
       "      <th>11</th>\n",
       "      <td>540  MARSHBURN RD</td>\n",
       "      <td>WENDELL</td>\n",
       "      <td>27591</td>\n",
       "      <td>R3</td>\n",
       "      <td>37,500</td>\n",
       "      <td>9/16/2004</td>\n",
       "      <td>2</td>\n",
       "      <td>1900</td>\n",
       "      <td>1</td>\n",
       "      <td>A</td>\n",
       "    </tr>\n",
       "    <tr>\n",
       "      <th>13</th>\n",
       "      <td>1612  BENNETT ST</td>\n",
       "      <td>RALEIGH</td>\n",
       "      <td>27604</td>\n",
       "      <td>R-4</td>\n",
       "      <td>5,000</td>\n",
       "      <td>1/1/1971</td>\n",
       "      <td>2</td>\n",
       "      <td>0</td>\n",
       "      <td>0</td>\n",
       "      <td>OTHER</td>\n",
       "    </tr>\n",
       "  </tbody>\n",
       "</table>\n",
       "</div>"
      ],
      "text/plain": [
       "              SITE_ADDRE     CITY  ZIP_CODE ZONING SALE_PRICE  SALE_DATE  \\\n",
       "8       2457  BERTIE DR   RALEIGH     27610    R-4     34,500   1/1/1974   \n",
       "9   2848  PROVIDENCE RD   RALEIGH     27610    R-4     35,500  5/18/1983   \n",
       "10    409 S LAKESIDE DR   RALEIGH     27606    R-4          0      OTHER   \n",
       "11    540  MARSHBURN RD   WENDELL     27591     R3     37,500  9/16/2004   \n",
       "13     1612  BENNETT ST   RALEIGH     27604    R-4      5,000   1/1/1971   \n",
       "\n",
       "    BILLING_CLASS  YEAR_BUILT  UNITS DESIGN_STYLE  \n",
       "8               2        1964      1            I  \n",
       "9               2        1970      1            A  \n",
       "10              2        1999      1            A  \n",
       "11              2        1900      1            A  \n",
       "13              2           0      0        OTHER  "
      ]
     },
     "execution_count": 2,
     "metadata": {},
     "output_type": "execute_result"
    }
   ],
   "source": [
    "housing_df = pd.read_csv(\"resources/WAKE_COUNTY_HOUSING_DATA.csv\", index_col=0)\n",
    "housing_df = housing_df.fillna(\"OTHER\")\n",
    "housing_df.head()"
   ]
  },
  {
   "cell_type": "code",
   "execution_count": 3,
   "id": "59e3e5e6",
   "metadata": {},
   "outputs": [
    {
     "data": {
      "text/html": [
       "<div>\n",
       "<style scoped>\n",
       "    .dataframe tbody tr th:only-of-type {\n",
       "        vertical-align: middle;\n",
       "    }\n",
       "\n",
       "    .dataframe tbody tr th {\n",
       "        vertical-align: top;\n",
       "    }\n",
       "\n",
       "    .dataframe thead th {\n",
       "        text-align: right;\n",
       "    }\n",
       "</style>\n",
       "<table border=\"1\" class=\"dataframe\">\n",
       "  <thead>\n",
       "    <tr style=\"text-align: right;\">\n",
       "      <th></th>\n",
       "      <th>TOTAL_VALU</th>\n",
       "      <th>SITE_ADDRE</th>\n",
       "      <th>AIR_NOISE</th>\n",
       "    </tr>\n",
       "  </thead>\n",
       "  <tbody>\n",
       "    <tr>\n",
       "      <th>0</th>\n",
       "      <td>27500</td>\n",
       "      <td>5626 HICKORY LN</td>\n",
       "      <td>0</td>\n",
       "    </tr>\n",
       "    <tr>\n",
       "      <th>1</th>\n",
       "      <td>292588</td>\n",
       "      <td>104 MADISON GROVE PL</td>\n",
       "      <td>0</td>\n",
       "    </tr>\n",
       "    <tr>\n",
       "      <th>2</th>\n",
       "      <td>409131</td>\n",
       "      <td>3038 KILARNEY RIDGE LOOP</td>\n",
       "      <td>0</td>\n",
       "    </tr>\n",
       "    <tr>\n",
       "      <th>3</th>\n",
       "      <td>256470</td>\n",
       "      <td>4608 SILVER CHARM DR</td>\n",
       "      <td>0</td>\n",
       "    </tr>\n",
       "    <tr>\n",
       "      <th>4</th>\n",
       "      <td>475623</td>\n",
       "      <td>1328 PLUNKET DR</td>\n",
       "      <td>0</td>\n",
       "    </tr>\n",
       "  </tbody>\n",
       "</table>\n",
       "</div>"
      ],
      "text/plain": [
       "   TOTAL_VALU                SITE_ADDRE  AIR_NOISE\n",
       "0       27500           5626 HICKORY LN          0\n",
       "1      292588      104 MADISON GROVE PL          0\n",
       "2      409131  3038 KILARNEY RIDGE LOOP          0\n",
       "3      256470      4608 SILVER CHARM DR          0\n",
       "4      475623           1328 PLUNKET DR          0"
      ]
     },
     "execution_count": 3,
     "metadata": {},
     "output_type": "execute_result"
    }
   ],
   "source": [
    "noise_df = pd.read_csv(\"resources/Wake_Air_Noise_Cleaned.csv\", usecols=[\"TOTAL_VALU\", \"AIR_NOISE\", \"SITE_ADDRE\"])\n",
    "noise_df.head()"
   ]
  },
  {
   "cell_type": "code",
   "execution_count": 4,
   "id": "a496b485",
   "metadata": {},
   "outputs": [
    {
     "data": {
      "text/html": [
       "<div>\n",
       "<style scoped>\n",
       "    .dataframe tbody tr th:only-of-type {\n",
       "        vertical-align: middle;\n",
       "    }\n",
       "\n",
       "    .dataframe tbody tr th {\n",
       "        vertical-align: top;\n",
       "    }\n",
       "\n",
       "    .dataframe thead th {\n",
       "        text-align: right;\n",
       "    }\n",
       "</style>\n",
       "<table border=\"1\" class=\"dataframe\">\n",
       "  <thead>\n",
       "    <tr style=\"text-align: right;\">\n",
       "      <th></th>\n",
       "      <th>CITY</th>\n",
       "      <th>YEAR_RANGE</th>\n",
       "      <th>VIOLENT_CRIMES</th>\n",
       "      <th>PROPERTY_CRIMES</th>\n",
       "      <th>TOTAL_CRIMES</th>\n",
       "    </tr>\n",
       "  </thead>\n",
       "  <tbody>\n",
       "    <tr>\n",
       "      <th>0</th>\n",
       "      <td>Apex</td>\n",
       "      <td>2011 - 2021</td>\n",
       "      <td>379</td>\n",
       "      <td>6054</td>\n",
       "      <td>6433</td>\n",
       "    </tr>\n",
       "    <tr>\n",
       "      <th>1</th>\n",
       "      <td>Cary</td>\n",
       "      <td>2011 - 2021</td>\n",
       "      <td>1262</td>\n",
       "      <td>19726</td>\n",
       "      <td>20988</td>\n",
       "    </tr>\n",
       "    <tr>\n",
       "      <th>2</th>\n",
       "      <td>Fuquay Varina</td>\n",
       "      <td>2011 - 2021</td>\n",
       "      <td>440</td>\n",
       "      <td>4430</td>\n",
       "      <td>4870</td>\n",
       "    </tr>\n",
       "    <tr>\n",
       "      <th>3</th>\n",
       "      <td>Garner</td>\n",
       "      <td>2011 - 2021</td>\n",
       "      <td>837</td>\n",
       "      <td>11988</td>\n",
       "      <td>12825</td>\n",
       "    </tr>\n",
       "    <tr>\n",
       "      <th>4</th>\n",
       "      <td>Holly Springs</td>\n",
       "      <td>2011 - 2021</td>\n",
       "      <td>251</td>\n",
       "      <td>3403</td>\n",
       "      <td>3654</td>\n",
       "    </tr>\n",
       "  </tbody>\n",
       "</table>\n",
       "</div>"
      ],
      "text/plain": [
       "            CITY   YEAR_RANGE  VIOLENT_CRIMES  PROPERTY_CRIMES  TOTAL_CRIMES\n",
       "0           Apex  2011 - 2021             379             6054          6433\n",
       "1           Cary  2011 - 2021            1262            19726         20988\n",
       "2  Fuquay Varina  2011 - 2021             440             4430          4870\n",
       "3      Garner     2011 - 2021             837            11988         12825\n",
       "4  Holly Springs  2011 - 2021             251             3403          3654"
      ]
     },
     "execution_count": 4,
     "metadata": {},
     "output_type": "execute_result"
    }
   ],
   "source": [
    "#Load crime dataframe\n",
    "# NOTE: will require editing to add to machine learning model; is by city, not on a single-property level\n",
    "crime_df = pd.read_csv(\"resources/Wake_County_Crime_Data.csv\")\n",
    "crime_df.rename(columns={\"TOTAL_REPORTED_VIOLENT_CRIMES\": \"VIOLENT_CRIMES\", \"TOTAL_REPORTED_PROPERTY_CRIMES\": \"PROPERTY_CRIMES\"}, inplace=True)\n",
    "crime_df.head()"
   ]
  },
  {
   "cell_type": "code",
   "execution_count": 5,
   "id": "fd86c9ba",
   "metadata": {},
   "outputs": [
    {
     "name": "stdout",
     "output_type": "stream",
     "text": [
      "housing_df: (348163, 10)\n",
      "noise_df: (406038, 3)\n",
      "crime_df: (12, 5)\n"
     ]
    }
   ],
   "source": [
    "print(f'housing_df: {housing_df.shape}')\n",
    "print(f'noise_df: {noise_df.shape}')\n",
    "print(f'crime_df: {crime_df.shape}')"
   ]
  },
  {
   "cell_type": "code",
   "execution_count": 6,
   "id": "ef9b3da2",
   "metadata": {},
   "outputs": [
    {
     "name": "stdout",
     "output_type": "stream",
     "text": [
      "336639\n",
      "392938\n",
      "12\n"
     ]
    }
   ],
   "source": [
    "print(housing_df['SITE_ADDRE'].nunique())\n",
    "print(noise_df['SITE_ADDRE'].nunique())\n",
    "print(crime_df['CITY'].nunique())"
   ]
  },
  {
   "cell_type": "code",
   "execution_count": 7,
   "id": "e0d98ae1",
   "metadata": {},
   "outputs": [
    {
     "name": "stdout",
     "output_type": "stream",
     "text": [
      "(336639, 10)\n",
      "SITE_ADDRE       336639\n",
      "CITY                 20\n",
      "ZIP_CODE             40\n",
      "ZONING              280\n",
      "SALE_PRICE         3626\n",
      "SALE_DATE         10405\n",
      "BILLING_CLASS         1\n",
      "YEAR_BUILT          182\n",
      "UNITS                48\n",
      "DESIGN_STYLE         16\n",
      "dtype: int64\n"
     ]
    }
   ],
   "source": [
    "housing_df.drop_duplicates(subset=[\"SITE_ADDRE\"], keep='first', inplace=True)\n",
    "print(housing_df.shape)\n",
    "print(housing_df.nunique())"
   ]
  },
  {
   "cell_type": "code",
   "execution_count": 8,
   "id": "39de112a",
   "metadata": {},
   "outputs": [
    {
     "name": "stdout",
     "output_type": "stream",
     "text": [
      "(392938, 3)\n",
      "TOTAL_VALU    250708\n",
      "SITE_ADDRE    392938\n",
      "AIR_NOISE          5\n",
      "dtype: int64\n"
     ]
    }
   ],
   "source": [
    "noise_df.drop_duplicates(subset=[\"SITE_ADDRE\"], keep='first', inplace=True)\n",
    "print(noise_df.shape)\n",
    "print(noise_df.nunique())"
   ]
  },
  {
   "cell_type": "code",
   "execution_count": 9,
   "id": "2174c7a2",
   "metadata": {},
   "outputs": [],
   "source": [
    "housing_df.to_csv('resources/housing_data.csv', index=False)\n",
    "noise_df.to_csv('resources/noise_data.csv', index=False)\n",
    "crime_df.to_csv('resources/crime_data.csv', index=False)"
   ]
  }
 ],
 "metadata": {
  "kernelspec": {
   "display_name": "mlenv",
   "language": "python",
   "name": "mlenv"
  },
  "language_info": {
   "codemirror_mode": {
    "name": "ipython",
    "version": 3
   },
   "file_extension": ".py",
   "mimetype": "text/x-python",
   "name": "python",
   "nbconvert_exporter": "python",
   "pygments_lexer": "ipython3",
   "version": "3.7.13"
  }
 },
 "nbformat": 4,
 "nbformat_minor": 5
}
