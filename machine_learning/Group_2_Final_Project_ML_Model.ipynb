{
 "cells": [
  {
   "cell_type": "code",
   "execution_count": null,
   "id": "63d12b7f",
   "metadata": {},
   "outputs": [],
   "source": [
    "# Import dependencies\n",
    "from sklearn.model_selection import train_test_split\n",
    "from sklearn.linear_model import LinearRegression\n",
    "import pandas as pd\n",
    "import warnings\n",
    "warnings.filterwarnings(\"ignore\")\n",
    "import pyodbc\n",
    "import pandas.rpy.common as com\n",
    "import seaborn as sns\n",
    "%matplotlib inline\n",
    "import matplotlib.pyplot as plt\n",
    "from matplotlib import colors\n",
    "#import sqlite3\n",
    "# supervised model for labels"
   ]
  },
  {
   "cell_type": "code",
   "execution_count": null,
   "id": "73d77eb4",
   "metadata": {},
   "outputs": [],
   "source": [
    "# Load the data\n",
    "\n",
    "# df = pd.read_csv('WAKE_COUNTY_HOUSING_DATA.csv')\n",
    "\n",
    "# conn = pyodbc.connect('Driver={SQL Server};'\n",
    "#                       'Server=MSI;'\n",
    "#                       'Database=DATAPORTFOLIO;'\n",
    "#                       'Trusted_Connection=yes;')\n",
    "\n",
    "conn = sqlite3.connect('housingSQL.db')\n",
    "query = \"SELECT * FROM housing_table\"\n",
    "homes_df = pd.read_sql_query(query, conn)\n",
    "conn.close()\n",
    "\n",
    "sql_query = pd.read_sql_query('''\n",
    "                              select * from DATAPORTFOLIO.dbo.WAKE_COUNTY_HOUSING_DATA\n",
    "                              '''\n",
    "                              ,conn) # here, the 'conn' is the variable that contains your database connection\n",
    "\n",
    "df = pd.DataFrame(sql_query)\n",
    "\n",
    "df.head()\n",
    "\n",
    "# logistic is binary, k means is clusters (consumers based on income)"
   ]
  },
  {
   "cell_type": "code",
   "execution_count": null,
   "id": "7718d252",
   "metadata": {},
   "outputs": [],
   "source": [
    "# Check data types of all columns\n",
    "df.dtypes"
   ]
  },
  {
   "cell_type": "code",
   "execution_count": null,
   "id": "07b14bbb",
   "metadata": {},
   "outputs": [],
   "source": [
    "# https://stackoverflow.com/questions/39409866/correlation-heatmap\n",
    "# Create a correlation heatmap to assess features for their significance\n",
    "# load the R package ISLR\n",
    "# infert = com.importr(\"ISLR\")\n",
    "\n",
    "# # load the Auto dataset\n",
    "# df = com.load_data('Homes')\n",
    "\n",
    "# # calculate the correlation matrix\n",
    "# corr = df.corr()\n",
    "\n",
    "# # plot the heatmap\n",
    "# sns.heatmap(corr, \n",
    "#         xticklabels=corr.columns,\n",
    "#         yticklabels=corr.columns)\n",
    "\n",
    "Var_Corr = df.corr()\n",
    "# plot the heatmap and annotation on it\n",
    "sns.heatmap(Var_Corr, xticklabels=Var_Corr.columns, yticklabels=Var_Corr.columns, annot=True)"
   ]
  },
  {
   "cell_type": "code",
   "execution_count": null,
   "id": "6716adbb",
   "metadata": {},
   "outputs": [],
   "source": [
    "# Select features we're interested in\n",
    "features = ['HEATEDAREA', 'AIR_NOISE', 'TOTAL_CRIMES', 'POP_DENSITY', 'DESIGN_STYLE', 'YEAR_BUILT', 'ZIP_CODE', 'CITY']\n",
    "X = homes_df[features]"
   ]
  },
  {
   "cell_type": "code",
   "execution_count": null,
   "id": "137078e3",
   "metadata": {},
   "outputs": [],
   "source": [
    "# 'TOTAL_VALUE' home cost is our target variable\n",
    "y = df['TOTAL_VALUE']"
   ]
  },
  {
   "cell_type": "code",
   "execution_count": null,
   "id": "44e5bd9c",
   "metadata": {},
   "outputs": [],
   "source": [
    "# Split the data into training and testing sets\n",
    "X_train, X_test, y_train, y_test = train_test_split(X, y, test_size=0.2, random_state=42)"
   ]
  },
  {
   "cell_type": "code",
   "execution_count": null,
   "id": "865b9dff",
   "metadata": {},
   "outputs": [],
   "source": [
    "# Create a Linear Regression model\n",
    "home_value_model = LinearRegression()"
   ]
  },
  {
   "cell_type": "code",
   "execution_count": null,
   "id": "48d5f035",
   "metadata": {},
   "outputs": [],
   "source": [
    "# Train the model\n",
    "home_value_model.fit(X_train, y_train)"
   ]
  },
  {
   "cell_type": "code",
   "execution_count": null,
   "id": "fa29e2f9",
   "metadata": {},
   "outputs": [],
   "source": [
    "# You can now use the model to make predictions, for example:\n",
    "y_pred = home_value_model.predict(X_test)"
   ]
  },
  {
   "cell_type": "code",
   "execution_count": 2,
   "id": "37be0d5f",
   "metadata": {},
   "outputs": [],
   "source": [
    "# Add predictions to dataframe\n",
    "homes_df['prediction'] = y_pred"
   ]
  },
  {
   "cell_type": "code",
   "execution_count": null,
   "id": "027de45b",
   "metadata": {},
   "outputs": [],
   "source": [
    "# Define your bins edges\n",
    "bins = [0, 250000, 500000, float('inf')]"
   ]
  },
  {
   "cell_type": "code",
   "execution_count": null,
   "id": "9246b131",
   "metadata": {},
   "outputs": [],
   "source": [
    "# Define labels\n",
    "value_labels = ['<250k', '250-500k', '>500k']"
   ]
  },
  {
   "cell_type": "code",
   "execution_count": null,
   "id": "71850674",
   "metadata": {},
   "outputs": [],
   "source": [
    "# Create a new column with categorical labels\n",
    "homes_df['price_range'] = pd.cut(homes_df['prediction'], bins=bins, labels=value_labels)"
   ]
  }
 ],
 "metadata": {
  "kernelspec": {
   "display_name": "mlenv",
   "language": "python",
   "name": "mlenv"
  },
  "language_info": {
   "codemirror_mode": {
    "name": "ipython",
    "version": 3
   },
   "file_extension": ".py",
   "mimetype": "text/x-python",
   "name": "python",
   "nbconvert_exporter": "python",
   "pygments_lexer": "ipython3",
   "version": "3.7.13"
  }
 },
 "nbformat": 4,
 "nbformat_minor": 5
}
