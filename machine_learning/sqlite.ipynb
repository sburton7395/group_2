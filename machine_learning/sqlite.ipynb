{
 "cells": [
  {
   "cell_type": "code",
   "execution_count": 1,
   "id": "d0b2a11c",
   "metadata": {},
   "outputs": [],
   "source": [
    "import sqlite3"
   ]
  },
  {
   "cell_type": "code",
   "execution_count": 2,
   "id": "1681dd45",
   "metadata": {},
   "outputs": [],
   "source": [
    "## Define connection and cursor \n",
    "conn = sqlite3.connect('Wake_Housing.db')"
   ]
  },
  {
   "cell_type": "code",
   "execution_count": 3,
   "id": "50eaad19",
   "metadata": {},
   "outputs": [],
   "source": [
    "c = conn.cursor()"
   ]
  },
  {
   "cell_type": "code",
   "execution_count": 4,
   "id": "bd3b7fdb",
   "metadata": {},
   "outputs": [
    {
     "data": {
      "text/plain": [
       "<sqlite3.Cursor at 0x149ed59bc00>"
      ]
     },
     "execution_count": 4,
     "metadata": {},
     "output_type": "execute_result"
    }
   ],
   "source": [
    "# create and stores tables \n",
    "\n",
    "c.execute(\"\"\"CREATE TABLE housing (\n",
    "               SITE_ADDRE CHAR(50) PRIMARY KEY NOT NULL,\n",
    "               CITY CHAR(50) NOT NULL,\n",
    "               ZIP_CODE INTEGER NOT NULL,\n",
    "               ZONING CHAR(50) NOT NULL,\n",
    "               SALE_PRICE CHAR(50) NOT NULL,\n",
    "               SALE_DATE CHAR(50) NOT NULL,\n",
    "               BILLING_CLASS INTEGER NOT NULL,\n",
    "               YEAR_BUILT INTEGER NOT NULL,\n",
    "               UNITS INTEGER NOT NULL,\n",
    "               DESIGN_STYLE CHAR(50) NOT NULL\n",
    "               )\"\"\")\n",
    "\n",
    "\n",
    "\n",
    "\n",
    "\n"
   ]
  },
  {
   "cell_type": "code",
   "execution_count": 5,
   "id": "5057d6f5",
   "metadata": {},
   "outputs": [
    {
     "data": {
      "text/plain": [
       "<sqlite3.Cursor at 0x149ed59bc00>"
      ]
     },
     "execution_count": 5,
     "metadata": {},
     "output_type": "execute_result"
    }
   ],
   "source": [
    "c.execute(\"\"\"CREATE TABLE noise (\n",
    "               SITE_ADDRE CHAR(50) NOT NULL,\n",
    "               NOISE_CATEGORY INTEGER NOT NULL,\n",
    "               AIR_NOISE INTEGER NOT NULL\n",
    "               )\"\"\")\n"
   ]
  },
  {
   "cell_type": "code",
   "execution_count": 6,
   "id": "113d74cb",
   "metadata": {},
   "outputs": [
    {
     "data": {
      "text/plain": [
       "<sqlite3.Cursor at 0x149ed59bc00>"
      ]
     },
     "execution_count": 6,
     "metadata": {},
     "output_type": "execute_result"
    }
   ],
   "source": [
    "c.execute(\"\"\"CREATE TABLE crime (\n",
    "               CITY CHAR(50) PRIMARY KEY NOT NULL,\n",
    "               YEAR_RANGE CHAR(50) NOT NULL,\n",
    "               VIOLENT_CRIMES INTEGER NOT NULL,\n",
    "               PROPERTY_CRIMES INTEGER NOT NULL,\n",
    "               TOTAL_CRIMES INTEGER NOT NULL,\n",
    "               FOREIGN KEY(CITY) REFERENCES housing(CITY)\n",
    "               )\"\"\")"
   ]
  },
  {
   "cell_type": "code",
   "execution_count": 7,
   "id": "1e92d522",
   "metadata": {},
   "outputs": [],
   "source": [
    "import pandas as pd\n",
    "\n",
    "\n",
    "#import DF/ create DF\n",
    "\n",
    "housing_df= pd.read_csv('ProjectTestData\\housing_data_clean.csv')\n",
    "\n",
    "#connect to DB/TABLES\n",
    "\n",
    "housing_df.to_sql('housing', conn, if_exists='replace')\n"
   ]
  },
  {
   "cell_type": "code",
   "execution_count": 8,
   "id": "d9ac011b",
   "metadata": {},
   "outputs": [],
   "source": [
    "noise_df= pd.read_csv('ProjectTestData\\Parcel_ExportTable_WithNoise_Cleaned.csv')\n",
    "\n",
    "noise_df.to_sql('noise', conn, if_exists='replace')"
   ]
  },
  {
   "cell_type": "code",
   "execution_count": 9,
   "id": "427a39c4",
   "metadata": {},
   "outputs": [],
   "source": [
    "crime_df= pd.read_csv('ProjectTestData\\crime_count_data_clean.csv')\n",
    "\n",
    "crime_df.to_sql('crime', conn, if_exists='replace')"
   ]
  },
  {
   "cell_type": "code",
   "execution_count": 10,
   "id": "348195ed",
   "metadata": {},
   "outputs": [],
   "source": [
    "#joining housing and crime tables\n",
    "joined_housing_tables_df = '''\n",
    "    SELECT *\n",
    "    FROM housing\n",
    "    LEFT JOIN crime ON housing.CITY = crime.CITY\n",
    "    LEFT JOIN noise ON housing.SITE_ADDRESS = noise.SITE_ADDRESS\n",
    "'''\n",
    "\n",
    "house_crime_noise_df = pd.read_sql_query(joined_housing_tables_df, conn)"
   ]
  },
  {
   "cell_type": "code",
   "execution_count": 11,
   "id": "581a7f71",
   "metadata": {},
   "outputs": [
    {
     "data": {
      "text/plain": [
       "<function Connection.close>"
      ]
     },
     "execution_count": 11,
     "metadata": {},
     "output_type": "execute_result"
    }
   ],
   "source": [
    "#close connection\n",
    "conn.close"
   ]
  },
  {
   "cell_type": "code",
   "execution_count": 12,
   "id": "66351072",
   "metadata": {},
   "outputs": [
    {
     "name": "stdout",
     "output_type": "stream",
     "text": [
      "         index  TOTAL_VALUE        SITE_ADDRESS     CITY  ZIP_CODE  \\\n",
      "0            0       249321      2457 BERTIE DR  RALEIGH     27610   \n",
      "1            1       159933  2848 PROVIDENCE RD  RALEIGH     27610   \n",
      "2            2       222624   409 S LAKESIDE DR  RALEIGH     27606   \n",
      "3            3       150723    540 MARSHBURN RD  WENDELL     27591   \n",
      "4            4       140801     605 WOODLAND RD  RALEIGH     27603   \n",
      "...        ...          ...                 ...      ...       ...   \n",
      "185926  185926       137044     6237 TEN TEN RD     APEX     27539   \n",
      "185927  185927       474932         500 KENT DR     CARY     27511   \n",
      "185928  185928       235612   1305 PONDEROSA DR  RALEIGH     27603   \n",
      "185929  185929       897806  1809 STILLWATER DR  RALEIGH     27607   \n",
      "185930  185930       552648     110 SHEPHERD ST  RALEIGH     27607   \n",
      "\n",
      "       PLANNING_JURISDICTION  ZONING  ACREAGE  HEATED_AREA  AGE  ...  \\\n",
      "0                         10     4.0     0.21         1828   59  ...   \n",
      "1                         10     4.0     0.46         1240   53  ...   \n",
      "2                         10     4.0     0.43         1037   24  ...   \n",
      "3                         14     3.0     0.46         2261  123  ...   \n",
      "4                          6     2.0     0.51          996   67  ...   \n",
      "...                      ...     ...      ...          ...  ...  ...   \n",
      "185926                    13     NaN     1.18         1456   36  ...   \n",
      "185927                     2     NaN     1.77         3110   26  ...   \n",
      "185928                    13     NaN     2.07         1640   61  ...   \n",
      "185929                    10     4.0     0.34         3202    6  ...   \n",
      "185930                    10     6.0     0.38         2170   84  ...   \n",
      "\n",
      "        TOTAL_VALUE  HEATED_AREA  SITE_ADDRESS  CITY PLANNING_JURISDICTION  \\\n",
      "0               NaN          NaN          None  None                  None   \n",
      "1               NaN          NaN          None  None                  None   \n",
      "2               NaN          NaN          None  None                  None   \n",
      "3               NaN          NaN          None  None                  None   \n",
      "4               NaN          NaN          None  None                  None   \n",
      "...             ...          ...           ...   ...                   ...   \n",
      "185926          NaN          NaN          None  None                  None   \n",
      "185927          NaN          NaN          None  None                  None   \n",
      "185928          NaN          NaN          None  None                  None   \n",
      "185929          NaN          NaN          None  None                  None   \n",
      "185930          NaN          NaN          None  None                  None   \n",
      "\n",
      "        YEAR_BUILT  STYLE  ZIP_CODE  NOISE_CATEGORY  AIR_NOISE  \n",
      "0              NaN   None      None             NaN        NaN  \n",
      "1              NaN   None      None             NaN        NaN  \n",
      "2              NaN   None      None             NaN        NaN  \n",
      "3              NaN   None      None             NaN        NaN  \n",
      "4              NaN   None      None             NaN        NaN  \n",
      "...            ...    ...       ...             ...        ...  \n",
      "185926         NaN   None      None             NaN        NaN  \n",
      "185927         NaN   None      None             NaN        NaN  \n",
      "185928         NaN   None      None             NaN        NaN  \n",
      "185929         NaN   None      None             NaN        NaN  \n",
      "185930         NaN   None      None             NaN        NaN  \n",
      "\n",
      "[185931 rows x 34 columns]\n"
     ]
    }
   ],
   "source": [
    "print(house_crime_noise_df)"
   ]
  },
  {
   "cell_type": "code",
   "execution_count": null,
   "id": "c34ace95",
   "metadata": {},
   "outputs": [],
   "source": []
  }
 ],
 "metadata": {
  "kernelspec": {
   "display_name": "Python 3 (ipykernel)",
   "language": "python",
   "name": "python3"
  },
  "language_info": {
   "codemirror_mode": {
    "name": "ipython",
    "version": 3
   },
   "file_extension": ".py",
   "mimetype": "text/x-python",
   "name": "python",
   "nbconvert_exporter": "python",
   "pygments_lexer": "ipython3",
   "version": "3.7.13"
  }
 },
 "nbformat": 4,
 "nbformat_minor": 5
}
