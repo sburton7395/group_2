{
 "cells": [
  {
   "cell_type": "code",
   "execution_count": 12,
   "id": "d0b2a11c",
   "metadata": {},
   "outputs": [],
   "source": [
    "import sqlite3\n"
   ]
  },
  {
   "cell_type": "code",
   "execution_count": 13,
   "id": "1681dd45",
   "metadata": {},
   "outputs": [],
   "source": [
    "## Define connection and cursor \n",
    "conn = sqlite3.connect('Wake_Housing.db')"
   ]
  },
  {
   "cell_type": "code",
   "execution_count": 14,
   "id": "50eaad19",
   "metadata": {},
   "outputs": [],
   "source": [
    "c = conn.cursor()"
   ]
  },
  {
   "cell_type": "code",
   "execution_count": 15,
   "id": "bd3b7fdb",
   "metadata": {},
   "outputs": [
    {
     "ename": "OperationalError",
     "evalue": "table housing already exists",
     "output_type": "error",
     "traceback": [
      "\u001b[1;31m---------------------------------------------------------------------------\u001b[0m",
      "\u001b[1;31mOperationalError\u001b[0m                          Traceback (most recent call last)",
      "Cell \u001b[1;32mIn[15], line 3\u001b[0m\n\u001b[0;32m      1\u001b[0m \u001b[38;5;66;03m# create and stores tables \u001b[39;00m\n\u001b[1;32m----> 3\u001b[0m \u001b[43mc\u001b[49m\u001b[38;5;241;43m.\u001b[39;49m\u001b[43mexecute\u001b[49m\u001b[43m(\u001b[49m\u001b[38;5;124;43m\"\"\"\u001b[39;49m\u001b[38;5;124;43mCREATE TABLE housing (\u001b[39;49m\n\u001b[0;32m      4\u001b[0m \u001b[38;5;124;43m               SITE_ADDRE CHAR(50) PRIMARY KEY NOT NULL,\u001b[39;49m\n\u001b[0;32m      5\u001b[0m \u001b[38;5;124;43m               CITY CHAR(50) NOT NULL,\u001b[39;49m\n\u001b[0;32m      6\u001b[0m \u001b[38;5;124;43m               ZIP_CODE INTEGER NOT NULL,\u001b[39;49m\n\u001b[0;32m      7\u001b[0m \u001b[38;5;124;43m               ZONING CHAR(50) NOT NULL,\u001b[39;49m\n\u001b[0;32m      8\u001b[0m \u001b[38;5;124;43m               SALE_PRICE CHAR(50) NOT NULL,\u001b[39;49m\n\u001b[0;32m      9\u001b[0m \u001b[38;5;124;43m               SALE_DATE CHAR(50) NOT NULL,\u001b[39;49m\n\u001b[0;32m     10\u001b[0m \u001b[38;5;124;43m               BILLING_CLASS INTEGER NOT NULL,\u001b[39;49m\n\u001b[0;32m     11\u001b[0m \u001b[38;5;124;43m               YEAR_BUILT INTEGER NOT NULL,\u001b[39;49m\n\u001b[0;32m     12\u001b[0m \u001b[38;5;124;43m               UNITS INTEGER NOT NULL,\u001b[39;49m\n\u001b[0;32m     13\u001b[0m \u001b[38;5;124;43m               DESIGN_STYLE CHAR(50) NOT NULL\u001b[39;49m\n\u001b[0;32m     14\u001b[0m \u001b[38;5;124;43m               )\u001b[39;49m\u001b[38;5;124;43m\"\"\"\u001b[39;49m\u001b[43m)\u001b[49m\n",
      "\u001b[1;31mOperationalError\u001b[0m: table housing already exists"
     ]
    }
   ],
   "source": [
    "# create and stores tables \n",
    "\n",
    "c.execute(\"\"\"CREATE TABLE housing (\n",
    "               SITE_ADDRE CHAR(50) PRIMARY KEY NOT NULL,\n",
    "               CITY CHAR(50) NOT NULL,\n",
    "               ZIP_CODE INTEGER NOT NULL,\n",
    "               ZONING CHAR(50) NOT NULL,\n",
    "               SALE_PRICE CHAR(50) NOT NULL,\n",
    "               SALE_DATE CHAR(50) NOT NULL,\n",
    "               BILLING_CLASS INTEGER NOT NULL,\n",
    "               YEAR_BUILT INTEGER NOT NULL,\n",
    "               UNITS INTEGER NOT NULL,\n",
    "               DESIGN_STYLE CHAR(50) NOT NULL\n",
    "               )\"\"\")\n",
    "\n",
    "\n",
    "\n",
    "\n",
    "\n"
   ]
  },
  {
   "cell_type": "code",
   "execution_count": 16,
   "id": "5057d6f5",
   "metadata": {},
   "outputs": [
    {
     "ename": "OperationalError",
     "evalue": "table noise already exists",
     "output_type": "error",
     "traceback": [
      "\u001b[1;31m---------------------------------------------------------------------------\u001b[0m",
      "\u001b[1;31mOperationalError\u001b[0m                          Traceback (most recent call last)",
      "Cell \u001b[1;32mIn[16], line 1\u001b[0m\n\u001b[1;32m----> 1\u001b[0m \u001b[43mc\u001b[49m\u001b[38;5;241;43m.\u001b[39;49m\u001b[43mexecute\u001b[49m\u001b[43m(\u001b[49m\u001b[38;5;124;43m\"\"\"\u001b[39;49m\u001b[38;5;124;43mCREATE TABLE noise (\u001b[39;49m\n\u001b[0;32m      2\u001b[0m \u001b[38;5;124;43m               TOTAL_VALU INTEGER NOT NULL,\u001b[39;49m\n\u001b[0;32m      3\u001b[0m \u001b[38;5;124;43m               SITE_ADDRE CHAR(50) NOT NULL,\u001b[39;49m\n\u001b[0;32m      4\u001b[0m \u001b[38;5;124;43m               AIR_NOISE INTEGER NOT NULL\u001b[39;49m\n\u001b[0;32m      5\u001b[0m \u001b[38;5;124;43m               )\u001b[39;49m\u001b[38;5;124;43m\"\"\"\u001b[39;49m\u001b[43m)\u001b[49m\n",
      "\u001b[1;31mOperationalError\u001b[0m: table noise already exists"
     ]
    }
   ],
   "source": [
    "c.execute(\"\"\"CREATE TABLE noise (\n",
    "               TOTAL_VALU INTEGER NOT NULL,\n",
    "               SITE_ADDRE CHAR(50) NOT NULL,\n",
    "               AIR_NOISE INTEGER NOT NULL\n",
    "               )\"\"\")\n"
   ]
  },
  {
   "cell_type": "code",
   "execution_count": 17,
   "id": "113d74cb",
   "metadata": {},
   "outputs": [
    {
     "ename": "OperationalError",
     "evalue": "table crime already exists",
     "output_type": "error",
     "traceback": [
      "\u001b[1;31m---------------------------------------------------------------------------\u001b[0m",
      "\u001b[1;31mOperationalError\u001b[0m                          Traceback (most recent call last)",
      "Cell \u001b[1;32mIn[17], line 1\u001b[0m\n\u001b[1;32m----> 1\u001b[0m \u001b[43mc\u001b[49m\u001b[38;5;241;43m.\u001b[39;49m\u001b[43mexecute\u001b[49m\u001b[43m(\u001b[49m\u001b[38;5;124;43m\"\"\"\u001b[39;49m\u001b[38;5;124;43mCREATE TABLE crime (\u001b[39;49m\n\u001b[0;32m      2\u001b[0m \u001b[38;5;124;43m               CITY CHAR(50) PRIMARY KEY NOT NULL,\u001b[39;49m\n\u001b[0;32m      3\u001b[0m \u001b[38;5;124;43m               YEAR_RANGE CHAR(50) NOT NULL,\u001b[39;49m\n\u001b[0;32m      4\u001b[0m \u001b[38;5;124;43m               VIOLENT_CRIMES INTEGER NOT NULL,\u001b[39;49m\n\u001b[0;32m      5\u001b[0m \u001b[38;5;124;43m               PROPERTY_CRIMES INTEGER NOT NULL,\u001b[39;49m\n\u001b[0;32m      6\u001b[0m \u001b[38;5;124;43m               TOTAL_CRIMES INTEGER NOT NULL,\u001b[39;49m\n\u001b[0;32m      7\u001b[0m \u001b[38;5;124;43m               FOREIGN KEY(CITY) REFERENCES housing(CITY)\u001b[39;49m\n\u001b[0;32m      8\u001b[0m \u001b[38;5;124;43m               )\u001b[39;49m\u001b[38;5;124;43m\"\"\"\u001b[39;49m\u001b[43m)\u001b[49m\n",
      "\u001b[1;31mOperationalError\u001b[0m: table crime already exists"
     ]
    }
   ],
   "source": [
    "c.execute(\"\"\"CREATE TABLE crime (\n",
    "               CITY CHAR(50) PRIMARY KEY NOT NULL,\n",
    "               YEAR_RANGE CHAR(50) NOT NULL,\n",
    "               VIOLENT_CRIMES INTEGER NOT NULL,\n",
    "               PROPERTY_CRIMES INTEGER NOT NULL,\n",
    "               TOTAL_CRIMES INTEGER NOT NULL,\n",
    "               FOREIGN KEY(CITY) REFERENCES housing(CITY)\n",
    "               )\"\"\")"
   ]
  },
  {
   "cell_type": "code",
   "execution_count": 18,
   "id": "1e92d522",
   "metadata": {},
   "outputs": [
    {
     "data": {
      "text/plain": [
       "185931"
      ]
     },
     "execution_count": 18,
     "metadata": {},
     "output_type": "execute_result"
    }
   ],
   "source": [
    "import pandas as pd\n",
    "\n",
    "\n",
    "#import DF/ create DF\n",
    "\n",
    "housing_tabe_df= pd.read_csv('housing_data_clean.csv')\n",
    "\n",
    "#connect to DB/TABLES\n",
    "\n",
    "housing_tabe_df.to_sql('housing', conn, if_exists='replace')\n"
   ]
  },
  {
   "cell_type": "code",
   "execution_count": 19,
   "id": "d9ac011b",
   "metadata": {},
   "outputs": [
    {
     "data": {
      "text/plain": [
       "10918"
      ]
     },
     "execution_count": 19,
     "metadata": {},
     "output_type": "execute_result"
    }
   ],
   "source": [
    "housing_tabe_df2= pd.read_csv('Parcel_ExportTable_WithNoise_Cleaned.csv')\n",
    "\n",
    "housing_tabe_df2.to_sql('noise', conn, if_exists='replace')"
   ]
  },
  {
   "cell_type": "code",
   "execution_count": 20,
   "id": "427a39c4",
   "metadata": {},
   "outputs": [
    {
     "data": {
      "text/plain": [
       "19"
      ]
     },
     "execution_count": 20,
     "metadata": {},
     "output_type": "execute_result"
    }
   ],
   "source": [
    "housing_tabe_df3= pd.read_csv('crime_count_data_clean_final.csv')\n",
    "\n",
    "housing_tabe_df3.to_sql('crime', conn, if_exists='replace')"
   ]
  },
  {
   "cell_type": "code",
   "execution_count": 21,
   "id": "348195ed",
   "metadata": {},
   "outputs": [],
   "source": [
    "#joining tables\n",
    "\n",
    "\n",
    "joined_housing_tables_df = '''\n",
    "    SELECT *\n",
    "    FROM housing\n",
    "    LEFT JOIN crime ON housing.CITY = crime.CITY\n",
    "'''\n",
    "\n",
    "joined_crimehousing_df = pd.read_sql_query(joined_housing_tables_df, conn)"
   ]
  },
  {
   "cell_type": "code",
   "execution_count": 22,
   "id": "581a7f71",
   "metadata": {},
   "outputs": [
    {
     "data": {
      "text/plain": [
       "<function Connection.close>"
      ]
     },
     "execution_count": 22,
     "metadata": {},
     "output_type": "execute_result"
    }
   ],
   "source": [
    "#close connection\n",
    "conn.close"
   ]
  },
  {
   "cell_type": "code",
   "execution_count": 23,
   "id": "66351072",
   "metadata": {},
   "outputs": [
    {
     "name": "stdout",
     "output_type": "stream",
     "text": [
      "         index  TOTAL_VALUE        SITE_ADDRESS     CITY  ZIP_CODE  \\\n",
      "0            0       249321      2457 BERTIE DR  RALEIGH     27610   \n",
      "1            1       159933  2848 PROVIDENCE RD  RALEIGH     27610   \n",
      "2            2       222624   409 S LAKESIDE DR  RALEIGH     27606   \n",
      "3            3       150723    540 MARSHBURN RD  WENDELL     27591   \n",
      "4            4       140801     605 WOODLAND RD  RALEIGH     27603   \n",
      "...        ...          ...                 ...      ...       ...   \n",
      "185926  185926       137044     6237 TEN TEN RD     APEX     27539   \n",
      "185927  185927       474932         500 KENT DR     CARY     27511   \n",
      "185928  185928       235612   1305 PONDEROSA DR  RALEIGH     27603   \n",
      "185929  185929       897806  1809 STILLWATER DR  RALEIGH     27607   \n",
      "185930  185930       552648     110 SHEPHERD ST  RALEIGH     27607   \n",
      "\n",
      "        PLANNING_JURISDICTION  ZONING  ACREAGE  HEATED_AREA  AGE  ...  index  \\\n",
      "0                          10     4.0     0.21         1828   59  ...     12   \n",
      "1                          10     4.0     0.46         1240   53  ...     12   \n",
      "2                          10     4.0     0.43         1037   24  ...     12   \n",
      "3                          14     3.0     0.46         2261  123  ...     15   \n",
      "4                           6     2.0     0.51          996   67  ...     12   \n",
      "...                       ...     ...      ...          ...  ...  ...    ...   \n",
      "185926                     13     NaN     1.18         1456   36  ...      1   \n",
      "185927                      2     NaN     1.77         3110   26  ...      2   \n",
      "185928                     13     NaN     2.07         1640   61  ...     12   \n",
      "185929                     10     4.0     0.34         3202    6  ...     12   \n",
      "185930                     10     6.0     0.38         2170   84  ...     12   \n",
      "\n",
      "           CITY  PERSONAL_CHARGE_COUNT  PERSONAL_NAME_COUNT  \\\n",
      "0       RALEIGH                   4450                 2945   \n",
      "1       RALEIGH                   4450                 2945   \n",
      "2       RALEIGH                   4450                 2945   \n",
      "3       WENDELL                     69                   49   \n",
      "4       RALEIGH                   4450                 2945   \n",
      "...         ...                    ...                  ...   \n",
      "185926     APEX                    144                  112   \n",
      "185927     CARY                    404                  319   \n",
      "185928  RALEIGH                   4450                 2945   \n",
      "185929  RALEIGH                   4450                 2945   \n",
      "185930  RALEIGH                   4450                 2945   \n",
      "\n",
      "       PROPERTY_CHARGE_COUNT  PROPERTY_NAME_COUNT  DRUG_CHARGE_COUNT  \\\n",
      "0                       5035                 2634               3941   \n",
      "1                       5035                 2634               3941   \n",
      "2                       5035                 2634               3941   \n",
      "3                         68                   42                 61   \n",
      "4                       5035                 2634               3941   \n",
      "...                      ...                  ...                ...   \n",
      "185926                   215                  130                146   \n",
      "185927                   293                  187                239   \n",
      "185928                  5035                 2634               3941   \n",
      "185929                  5035                 2634               3941   \n",
      "185930                  5035                 2634               3941   \n",
      "\n",
      "        DRUG_NAME_COUNT  TOTAL_CHARGE_COUNT  TOTAL_NAME_COUNT  \n",
      "0                  2042               13426              7621  \n",
      "1                  2042               13426              7621  \n",
      "2                  2042               13426              7621  \n",
      "3                    29                 198               120  \n",
      "4                  2042               13426              7621  \n",
      "...                 ...                 ...               ...  \n",
      "185926               77                 505               319  \n",
      "185927              145                 936               651  \n",
      "185928             2042               13426              7621  \n",
      "185929             2042               13426              7621  \n",
      "185930             2042               13426              7621  \n",
      "\n",
      "[185931 rows x 23 columns]\n"
     ]
    }
   ],
   "source": [
    "print(joined_crimehousing_df)"
   ]
  },
  {
   "cell_type": "code",
   "execution_count": null,
   "id": "c34ace95",
   "metadata": {},
   "outputs": [],
   "source": []
  }
 ],
 "metadata": {
  "kernelspec": {
   "display_name": "Python 3 (ipykernel)",
   "language": "python",
   "name": "python3"
  },
  "language_info": {
   "codemirror_mode": {
    "name": "ipython",
    "version": 3
   },
   "file_extension": ".py",
   "mimetype": "text/x-python",
   "name": "python",
   "nbconvert_exporter": "python",
   "pygments_lexer": "ipython3",
   "version": "3.9.13"
  }
 },
 "nbformat": 4,
 "nbformat_minor": 5
}
