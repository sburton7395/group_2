{
 "cells": [
  {
   "cell_type": "code",
   "execution_count": null,
   "id": "6a9ba785",
   "metadata": {},
   "outputs": [],
   "source": [
    "# Import dependencies\n",
    "from sklearn.model_selection import train_test_split\n",
    "from sklearn.linear_model import LinearRegression\n",
    "import pandas as pd\n",
    "import sqlite3\n",
    "# supervised model for labels"
   ]
  },
  {
   "cell_type": "code",
   "execution_count": null,
   "id": "90043cf8",
   "metadata": {},
   "outputs": [],
   "source": [
    "# Load the data\n",
    "homes_df = pd.read_csv('WAKE_COUNTY_HOUSING_DATA.csv')\n",
    "homes_df.head()\n",
    "\n",
    "# conn = sqlite3.connect('sqlpath.db')\n",
    "# query = \"SELECT * FROM housing_table\"\n",
    "# homes_df = pd.read_sql_query(query, conn)\n",
    "# conn.close()\n",
    "\n",
    "# logistic is binary, k means is clusters (consumers based on income)"
   ]
  },
  {
   "cell_type": "code",
   "execution_count": null,
   "id": "17f2ef53",
   "metadata": {},
   "outputs": [],
   "source": [
    "# Check data types of all columns\n",
    "homes_df.dtypes"
   ]
  },
  {
   "cell_type": "code",
   "execution_count": null,
   "id": "8a73c7d6",
   "metadata": {},
   "outputs": [],
   "source": [
    "# Select features we're interested in\n",
    "features = ['HEATEDAREA', 'AIR_NOISE', 'TOTAL_CRIMES', 'POP_DENSITY', 'AMENITIES']\n",
    "X = homes_df[features]"
   ]
  },
  {
   "cell_type": "code",
   "execution_count": null,
   "id": "6a7e1234",
   "metadata": {},
   "outputs": [],
   "source": [
    "# 'TOTAL_VALUE' home cost is our target variable\n",
    "y = homes_df['TOTAL_VALUE']"
   ]
  },
  {
   "cell_type": "code",
   "execution_count": null,
   "id": "c831b9c6",
   "metadata": {},
   "outputs": [],
   "source": [
    "# Split the data into training and testing sets\n",
    "X_train, X_test, y_train, y_test = train_test_split(X, y, test_size=0.2, random_state=42)"
   ]
  },
  {
   "cell_type": "code",
   "execution_count": null,
   "id": "02c6cd03",
   "metadata": {},
   "outputs": [],
   "source": [
    "# Create a Linear Regression model\n",
    "home_value_model = LinearRegression()"
   ]
  },
  {
   "cell_type": "code",
   "execution_count": null,
   "id": "8351e931",
   "metadata": {},
   "outputs": [],
   "source": [
    "# Train the model\n",
    "home_value_model.fit(X_train, y_train)"
   ]
  },
  {
   "cell_type": "code",
   "execution_count": null,
   "id": "2889f01c",
   "metadata": {},
   "outputs": [],
   "source": [
    "# You can now use the model to make predictions, for example:\n",
    "y_pred = home_value_model.predict(X_test)"
   ]
  },
  {
   "cell_type": "code",
   "execution_count": 2,
   "id": "311dcd81",
   "metadata": {},
   "outputs": [],
   "source": [
    "# Add predictions to dataframe\n",
    "homes_df['prediction'] = y_pred"
   ]
  },
  {
   "cell_type": "code",
   "execution_count": null,
   "id": "dad8aaa5",
   "metadata": {},
   "outputs": [],
   "source": [
    "# Define your bins edges\n",
    "bins = [0, 100000, 200000, 300000, 400000, 500000, float('inf')]"
   ]
  },
  {
   "cell_type": "code",
   "execution_count": null,
   "id": "143c7f66",
   "metadata": {},
   "outputs": [],
   "source": [
    "# Define labels\n",
    "value_labels = ['<100k', '100-200k', '200-300k', '300-400k', '400-500k', '>500k']"
   ]
  },
  {
   "cell_type": "code",
   "execution_count": null,
   "id": "f38edc1d",
   "metadata": {},
   "outputs": [],
   "source": [
    "# Create a new column with categorical labels\n",
    "homes_df['price_range'] = pd.cut(homes_df['prediction'], bins=bins, labels=value_labels)"
   ]
  }
 ],
 "metadata": {
  "kernelspec": {
   "display_name": "mlenv",
   "language": "python",
   "name": "mlenv"
  },
  "language_info": {
   "codemirror_mode": {
    "name": "ipython",
    "version": 3
   },
   "file_extension": ".py",
   "mimetype": "text/x-python",
   "name": "python",
   "nbconvert_exporter": "python",
   "pygments_lexer": "ipython3",
   "version": "3.7.13"
  }
 },
 "nbformat": 4,
 "nbformat_minor": 5
}
